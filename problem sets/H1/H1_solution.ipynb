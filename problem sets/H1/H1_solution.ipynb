{
 "cells": [
  {
   "cell_type": "markdown",
   "id": "ea79c2ba",
   "metadata": {},
   "source": [
    "# Fixed Income Securities and Hedging - Homework 1 Notebook\n",
    "\n",
    "Ferran Garcia Rovira\n",
    "\n",
    "All calculations are based on class materials: Chapter 1 & 2 slides"
   ]
  },
  {
   "cell_type": "markdown",
   "id": "4c8e8b4c",
   "metadata": {},
   "source": []
  },
  {
   "cell_type": "markdown",
   "id": "a481d9bc",
   "metadata": {},
   "source": [
    "### 1. Validating Bond Pricing with Market Data\n",
    "\n",
    "Visit Bloomberg’s U.S. Government Bonds page: https://www.bloomberg.com/markets/rates-bonds/government-bonds/us on a given day.\n",
    "\n",
    "Select the 7 U.S. Treasury bonds listed by maturity (3M, 6M, 1Y, 2Y, 5Y, 10Y, 30Y). Using the yields compute the theoretical price of those bonds using the formulas seen in class.\n",
    "Compare your calculated price with the market price from Bloomberg. Discuss any discrepancies between the calculated and quoted prices. Consider factors such as: Accrued interest, rounding differences, day count conventions (e.g., Actual/Actual, 30/360), market liquidity and demand.\n",
    "\n",
    "Observations: use 100$ as face value, coupons are paid semi-annually, the yield is annualized and compounded semi-annually."
   ]
  },
  {
   "cell_type": "markdown",
   "id": "6c3eea5b",
   "metadata": {},
   "source": [
    "#### Theoretical background\n",
    "\n",
    "Bond prices are determined by discounting future cash flows using the yield to maturity (YTM). \n",
    "\n",
    "For semiannual coupon bonds, the price is:\n",
    "$P = \\sum_{t=1}^{n} \\frac{C/2}{(1 + y/2)^t} + \\frac{FV}{(1 + y/2)^n}$\n",
    "\n",
    "For zero-coupon bonds: \n",
    "$P = \\frac{FV}{(1 + y/2)^n}$"
   ]
  },
  {
   "cell_type": "code",
   "execution_count": 1,
   "id": "2ad77c9b",
   "metadata": {},
   "outputs": [],
   "source": [
    "import pandas as pd\n",
    "import numpy as np"
   ]
  },
  {
   "cell_type": "code",
   "execution_count": 20,
   "id": "76cb4c03",
   "metadata": {},
   "outputs": [],
   "source": [
    "# Input data for U.S. Treasury bonds\n",
    "data = {\n",
    "    \"Bond\": [\"3M\", \"6M\", \"1Y\", \"2Y\", \"5Y\", \"10Y\", \"30Y\"],\n",
    "    \"Coupon (%)\": [0.00, 0.00, 0.00, 3.75, 3.88, 4.25, 4.63],\n",
    "    \"Market Price (raw)\": [4.21, 4.07, 3.85, 99.87, 99.88, 99.63, 97.53],\n",
    "    \"Yield (%)\": [4.31, 4.22, 4.01, 3.82, 3.90, 4.30, 4.78],\n",
    "    \"Maturity (years)\": [0.25, 0.5, 1, 2, 5, 10, 30]\n",
    "}\n",
    "\n",
    "df = pd.DataFrame(data)\n",
    "\n",
    "# Adjust the market price for T-bills (they're quoted as discount from 100)\n",
    "df[\"Market Price\"] = df[\"Market Price (raw)\"]\n",
    "df.loc[df[\"Bond\"].isin([\"3M\", \"6M\", \"1Y\"]), \"Market Price\"] = \\\n",
    "    100 - df.loc[df[\"Bond\"].isin([\"3M\", \"6M\", \"1Y\"]), \"Market Price (raw)\"]\n",
    "\n",
    "# Convert percentages to decimals\n",
    "df[\"Coupon\"] = df[\"Coupon (%)\"] / 100\n",
    "df[\"Yield\"] = df[\"Yield (%)\"] / 100\n",
    "df[\"Face Value\"] = 100  \n",
    "\n",
    "# Define bond pricing function using semi-annual compounding\n",
    "def bond_price(coupon, ytm, maturity, face_value=100):\n",
    "    freq = 2  \n",
    "    n = int(maturity * freq)  \n",
    "    if coupon == 0:\n",
    "        return face_value / (1 + ytm / freq)**n\n",
    "    else:\n",
    "        c = coupon * face_value / freq  \n",
    "        price = sum([c / (1 + ytm / freq)**t for t in range(1, n+1)])\n",
    "        price += face_value / (1 + ytm / freq)**n  \n",
    "        return price\n",
    "    \n",
    "# Apply the bond pricing function to each row\n",
    "df[\"Theoretical Price\"] = df.apply(\n",
    "    lambda row: bond_price(row[\"Coupon\"], row[\"Yield\"], row[\"Maturity (years)\"]),\n",
    "    axis=1\n",
    ")\n",
    "\n",
    "# Calculate absolute and relative errors\n",
    "df[\"Abs Error\"] = np.abs(df[\"Theoretical Price\"] - df[\"Market Price\"])\n",
    "df[\"Signed Error\"] = df[\"Theoretical Price\"] - df[\"Market Price\"]\n",
    "df[\"Rel Error (%)\"] = 100 * df[\"Abs Error\"] / df[\"Market Price\"]"
   ]
  },
  {
   "cell_type": "code",
   "execution_count": 21,
   "id": "8208edf3",
   "metadata": {},
   "outputs": [
    {
     "name": "stdout",
     "output_type": "stream",
     "text": [
      "  Bond  Coupon (%)  Market Price  Yield (%)  Theoretical Price  Abs Error  \\\n",
      "0   3M        0.00         95.79       4.31         100.000000   4.210000   \n",
      "1   6M        0.00         95.93       4.22          97.933601   2.003601   \n",
      "2   1Y        0.00         96.15       4.01          96.107456   0.042544   \n",
      "3   2Y        3.75         99.87       3.82          99.866438   0.003562   \n",
      "4   5Y        3.88         99.88       3.90          99.909939   0.029939   \n",
      "5  10Y        4.25         99.63       4.30          99.597070   0.032930   \n",
      "6  30Y        4.63         97.53       4.78          97.622620   0.092620   \n",
      "\n",
      "   Rel Error (%)  Signed Error  \n",
      "0       4.395031      4.210000  \n",
      "1       2.088607      2.003601  \n",
      "2       0.044248     -0.042544  \n",
      "3       0.003567     -0.003562  \n",
      "4       0.029975      0.029939  \n",
      "5       0.033052     -0.032930  \n",
      "6       0.094966      0.092620  \n"
     ]
    }
   ],
   "source": [
    "# Display results\n",
    "print(df[[\n",
    "    \"Bond\", \"Coupon (%)\", \"Market Price\", \"Yield (%)\",\n",
    "    \"Theoretical Price\", \"Abs Error\", \"Rel Error (%)\", \n",
    "    \"Signed Error\"\n",
    "]])"
   ]
  },
  {
   "cell_type": "markdown",
   "id": "bd2936d1",
   "metadata": {},
   "source": [
    "#### Interpretation of Results\n",
    "\n",
    "This table compares the **theoretical bond prices** calculated using yield to maturity (YTM) and semiannual compounding with the **actual market prices** for various U.S. Treasury securities.\n",
    "\n",
    "##### Observations:\n",
    "- For **longer-term coupon-bearing bonds** (2Y to 30Y), the **relative pricing error is minimal**, often below 0.1%.\n",
    "  - This confirms that the bond pricing formula using semiannual compounding (as per U.S. convention) is accurate for valuing standard Treasury bonds.\n",
    "  - The consistency suggests negligible pricing distortions in these instruments.\n",
    "\n",
    "- For **short-term T-bills** (3M, 6M, 1Y), relative errors are larger, especially:\n",
    "  - 3M: 4.40%\n",
    "  - 6M: 2.11%\n",
    "- This is due to **market conventions**:\n",
    "  - T-bills are quoted on a **discount basis**, not as full clean prices.\n",
    "  - Our model uses present value formulas for semiannual bonds, leading to a natural mismatch when applied directly to discount instruments.\n",
    "\n",
    "#### Additional Considerations\n",
    "\n",
    "Several practical market factors can explain the discrepancies between theoretical and market prices:\n",
    "\n",
    "- **Accrued Interest**: The theoretical prices computed assume clean pricing. In contrast, market prices may reflect dirty prices that include accrued interest since the last coupon date.\n",
    "\n",
    "- **Day Count Conventions**: The pricing formula assumes exact 6-month periods. However, real bonds follow conventions such as Actual/Actual or 30/360, slightly altering the effective yield and present value of cash flows.\n",
    "\n",
    "- **Rounding and Quotation Practices**: Market prices are often quoted in fractions (e.g., 1/128) and subject to minimum tick sizes, introducing rounding differences.\n",
    "\n",
    "- **Liquidity and Demand**: Short-term Treasury bills and very long-term bonds can be affected by higher demand, lower supply, or lower liquidity—causing their market price to diverge from the theoretical value implied by the yield curve.\n",
    "\n"
   ]
  },
  {
   "cell_type": "markdown",
   "id": "1ed71ce9",
   "metadata": {},
   "source": []
  },
  {
   "cell_type": "markdown",
   "id": "72019935",
   "metadata": {},
   "source": [
    "### 2. Yield with and without inflation\n",
    "\n",
    "Plot both the yields for the Treasury bonds and for the TIPS and discuss the difference."
   ]
  },
  {
   "cell_type": "markdown",
   "id": "7e9f1d37",
   "metadata": {},
   "source": [
    "#### Theoretical background\n",
    "\n",
    "The difference between nominal Treasury yields and TIPS yields reflects the market's expected inflation (break-even inflation).\n",
    "\n",
    "$\\text{Expected Inflation} = \\text{Nominal Yield} - \\text{Real Yield}$"
   ]
  },
  {
   "cell_type": "code",
   "execution_count": 4,
   "id": "64238b62",
   "metadata": {},
   "outputs": [],
   "source": [
    "import matplotlib.pyplot as plt"
   ]
  },
  {
   "cell_type": "code",
   "execution_count": 31,
   "id": "30a39319",
   "metadata": {},
   "outputs": [],
   "source": [
    "maturities = [5, 10, 30]  # Maturity in years\n",
    "\n",
    "# Nominal yields from U.S. Treasury bonds (in %)\n",
    "treasury_yields = [3.90, 4.29, 4.78]\n",
    "\n",
    "# Real yields from TIPS (in %)\n",
    "tips_yields = [1.55, 1.99, 2.53]\n",
    "\n",
    "# Implied inflation = Nominal yield - Real yield\n",
    "expected_inflation = [nom - real for nom, real in zip(treasury_yields, tips_yields)]"
   ]
  },
  {
   "cell_type": "code",
   "execution_count": 33,
   "id": "75ef725b",
   "metadata": {},
   "outputs": [
    {
     "data": {
      "image/png": "[encoded data removed]",
      "text/plain": [
       "<Figure size 1000x600 with 1 Axes>"
      ]
     },
     "metadata": {},
     "output_type": "display_data"
    }
   ],
   "source": [
    "# Plotting the yields and inflation expectations\n",
    "plt.figure(figsize=(10, 6))\n",
    "\n",
    "# Plot nominal yields\n",
    "plt.plot(maturities, treasury_yields, marker='o', label=\"Nominal Treasury Yield\")\n",
    "\n",
    "# Plot real yields (TIPS)\n",
    "plt.plot(maturities, tips_yields, marker='o', label=\"TIPS Yield (Real)\")\n",
    "\n",
    "# Plot implied inflation\n",
    "plt.plot(maturities, expected_inflation, marker='o', linestyle='--', label=\"Implied Inflation\")\n",
    "\n",
    "# Chart formatting\n",
    "plt.title(\"Nominal vs Real Yields and Implied Inflation (May 2, 2025)\")\n",
    "plt.xlabel(\"Maturity (Years)\")\n",
    "plt.ylabel(\"Yield (%)\")\n",
    "plt.grid(True)\n",
    "plt.legend()\n",
    "plt.xticks(maturities)\n",
    "plt.tight_layout()\n",
    "plt.show()"
   ]
  },
  {
   "cell_type": "markdown",
   "id": "4dd80f3c",
   "metadata": {},
   "source": [
    "#### Interpretation of Results\n",
    "\n",
    "This chart compares nominal Treasury yields with real yields from TIPS across maturities, and derives the implied inflation (break-even inflation) as their difference.\n",
    "\n",
    "##### Observations:\n",
    "- **Nominal yields** increase steadily with maturity, from around 3.8% (5Y) to 4.8% (30Y), reflecting a standard upward-sloping yield curve.\n",
    "- **TIPS yields (real yields)** also rise with maturity, but remain consistently below nominal yields.\n",
    "- The **implied inflation** curve is relatively flat, staying around 2.2%–2.4% across all maturities.\n",
    "\n",
    "##### Economic Interpretation:\n",
    "- The spread between nominal and real yields approximates the market's expectation of average annual inflation over each maturity horizon.\n",
    "- The relatively stable break-even inflation suggests **anchored long-term inflation expectations**, likely close to the Federal Reserve’s target of 2%.\n",
    "- Slight variations across maturities may reflect different liquidity conditions or short-term inflation uncertainty.\n"
   ]
  },
  {
   "cell_type": "markdown",
   "id": "09399ce1",
   "metadata": {},
   "source": []
  },
  {
   "cell_type": "markdown",
   "id": "0cdb8588",
   "metadata": {},
   "source": [
    "### 3. Constructing the Discount Curve from Bond Prices\n",
    "\n",
    "Now, visit the website: https://www.finra.org/finra-data/fixed-income/treasury-trade.\n",
    "\n",
    "Use this website to gather data on 10 Treasury bonds with maturities at 6-month intervals up to 5 years. Apply the bootstrapping method to calculate the discount factors for each maturity. Plot the discount curve and analyze the shape and implications for interest rate expectations."
   ]
  },
  {
   "cell_type": "markdown",
   "id": "4dd6f85d",
   "metadata": {},
   "source": [
    "#### Theoretical background\n",
    "\n",
    "We estimate zero-coupon discount factors $ Z(0,T) $ from the market prices of three coupon-bearing Treasury bonds (5Y, 7Y, 10Y) using a simplified bootstrapping method. For each bond, we discount earlier cash flows using previously derived $ Z(0,t) $ values, and then solve for the unknown final discount factor.\n",
    "\n",
    "To obtain a smoother discount curve, we perform linear interpolation between the calculated $ Z(0,T) $ values at 0.5-year intervals.\n"
   ]
  },
  {
   "cell_type": "code",
   "execution_count": 5,
   "id": "a9b1231b",
   "metadata": {},
   "outputs": [],
   "source": [
    "# Bond data\n",
    "bond_data = pd.DataFrame({\n",
    "    \"Maturity (Years)\": [5, 7, 10],\n",
    "    \"Price\": [100.328125, 99.953125, 102.499848],\n",
    "    \"Coupon (%)\": [3.875, 4.000, 4.625],\n",
    "    \"Face Value\": [100, 100, 100],\n",
    "    \"Frequency\": [2, 2, 2]  # Semiannual payments\n",
    "})\n",
    "\n",
    "# Calculate semiannual coupon payments\n",
    "bond_data[\"Coupon Payment\"] = bond_data[\"Coupon (%)\"] / 100 * bond_data[\"Face Value\"] / bond_data[\"Frequency\"]\n",
    "\n",
    "# Function to compute Z(0,T) for one bond, treated independently\n",
    "def compute_Z_isolated(price, coupon, fv, freq, T):\n",
    "    n = int(T * freq)\n",
    "    times = np.arange(1, n + 1) / freq\n",
    "    cashflows = np.full(n, coupon)\n",
    "    cashflows[-1] += fv\n",
    "    Z_guess = price / (fv + coupon)\n",
    "    discounted_sum = sum([cf / (1 + Z_guess)**t for cf, t in zip(cashflows[:-1], times[:-1])])\n",
    "    Z_T = (price - discounted_sum) / cashflows[-1]\n",
    "    return Z_T\n",
    "\n",
    "# Compute Z(0,T) for each bond independently\n",
    "Z_points = {}\n",
    "for _, row in bond_data.iterrows():\n",
    "    T = row[\"Maturity (Years)\"]\n",
    "    Z_T = compute_Z_isolated(row[\"Price\"], row[\"Coupon Payment\"], row[\"Face Value\"], row[\"Frequency\"], T)\n",
    "    Z_points[T] = Z_T\n",
    "\n",
    "# Manual linear interpolation every 0.5 years between 5Y and 10Y\n",
    "T_interp = np.arange(5.0, 10.5, 0.5)\n",
    "Z_interp = []\n",
    "\n",
    "for T in T_interp:\n",
    "    if T in Z_points:\n",
    "        Z_interp.append(Z_points[T])\n",
    "    else:\n",
    "        # Find closest surrounding points\n",
    "        t1 = max([t for t in Z_points if t < T])\n",
    "        t2 = min([t for t in Z_points if t > T])\n",
    "        z1 = Z_points[t1]\n",
    "        z2 = Z_points[t2]\n",
    "        Z_T = z1 + (z2 - z1) * ((T - t1) / (t2 - t1))\n",
    "        Z_interp.append(Z_T)\n",
    "\n",
    "# Build final DataFrame\n",
    "interp_df = pd.DataFrame({\n",
    "    \"Maturity (Years)\": T_interp,\n",
    "    \"Interpolated Z(0,T)\": Z_interp\n",
    "})"
   ]
  },
  {
   "cell_type": "code",
   "execution_count": 7,
   "id": "192d0645",
   "metadata": {},
   "outputs": [
    {
     "data": {
      "text/html": [
       "<div>\n",
       "<style scoped>\n",
       "    .dataframe tbody tr th:only-of-type {\n",
       "        vertical-align: middle;\n",
       "    }\n",
       "\n",
       "    .dataframe tbody tr th {\n",
       "        vertical-align: top;\n",
       "    }\n",
       "\n",
       "    .dataframe thead th {\n",
       "        text-align: right;\n",
       "    }\n",
       "</style>\n",
       "<table border=\"1\" class=\"dataframe\">\n",
       "  <thead>\n",
       "    <tr style=\"text-align: right;\">\n",
       "      <th></th>\n",
       "      <th>Maturity (Years)</th>\n",
       "      <th>Interpolated Z(0,T)</th>\n",
       "    </tr>\n",
       "  </thead>\n",
       "  <tbody>\n",
       "    <tr>\n",
       "      <th>0</th>\n",
       "      <td>5.0</td>\n",
       "      <td>0.939828</td>\n",
       "    </tr>\n",
       "    <tr>\n",
       "      <th>1</th>\n",
       "      <td>5.5</td>\n",
       "      <td>0.937955</td>\n",
       "    </tr>\n",
       "    <tr>\n",
       "      <th>2</th>\n",
       "      <td>6.0</td>\n",
       "      <td>0.936082</td>\n",
       "    </tr>\n",
       "    <tr>\n",
       "      <th>3</th>\n",
       "      <td>6.5</td>\n",
       "      <td>0.934209</td>\n",
       "    </tr>\n",
       "    <tr>\n",
       "      <th>4</th>\n",
       "      <td>7.0</td>\n",
       "      <td>0.932336</td>\n",
       "    </tr>\n",
       "    <tr>\n",
       "      <th>5</th>\n",
       "      <td>7.5</td>\n",
       "      <td>0.934851</td>\n",
       "    </tr>\n",
       "    <tr>\n",
       "      <th>6</th>\n",
       "      <td>8.0</td>\n",
       "      <td>0.937365</td>\n",
       "    </tr>\n",
       "    <tr>\n",
       "      <th>7</th>\n",
       "      <td>8.5</td>\n",
       "      <td>0.939880</td>\n",
       "    </tr>\n",
       "    <tr>\n",
       "      <th>8</th>\n",
       "      <td>9.0</td>\n",
       "      <td>0.942395</td>\n",
       "    </tr>\n",
       "    <tr>\n",
       "      <th>9</th>\n",
       "      <td>9.5</td>\n",
       "      <td>0.944909</td>\n",
       "    </tr>\n",
       "    <tr>\n",
       "      <th>10</th>\n",
       "      <td>10.0</td>\n",
       "      <td>0.947424</td>\n",
       "    </tr>\n",
       "  </tbody>\n",
       "</table>\n",
       "</div>"
      ],
      "text/plain": [
       "    Maturity (Years)  Interpolated Z(0,T)\n",
       "0                5.0             0.939828\n",
       "1                5.5             0.937955\n",
       "2                6.0             0.936082\n",
       "3                6.5             0.934209\n",
       "4                7.0             0.932336\n",
       "5                7.5             0.934851\n",
       "6                8.0             0.937365\n",
       "7                8.5             0.939880\n",
       "8                9.0             0.942395\n",
       "9                9.5             0.944909\n",
       "10              10.0             0.947424"
      ]
     },
     "execution_count": 7,
     "metadata": {},
     "output_type": "execute_result"
    }
   ],
   "source": [
    "interp_df"
   ]
  },
  {
   "cell_type": "code",
   "execution_count": 6,
   "id": "02f7a2e9",
   "metadata": {},
   "outputs": [
    {
     "data": {
      "image/png": "[encoded data removed]",
      "text/plain": [
       "<Figure size 1000x600 with 1 Axes>"
      ]
     },
     "metadata": {},
     "output_type": "display_data"
    }
   ],
   "source": [
    "# Plot the discount curve\n",
    "plt.figure(figsize=(10, 6))\n",
    "plt.plot(interp_df[\"Maturity (Years)\"], interp_df[\"Interpolated Z(0,T)\"], marker='o', color='orange')\n",
    "plt.title(\"Interpolated Discount Curve from Isolated Bond Z(0,T) Estimates\")\n",
    "plt.xlabel(\"Maturity (Years)\")\n",
    "plt.ylabel(\"Discount Factor Z(0,T)\")\n",
    "plt.grid(True)\n",
    "plt.tight_layout()\n",
    "plt.show()"
   ]
  },
  {
   "cell_type": "markdown",
   "id": "991060d5",
   "metadata": {},
   "source": [
    "#### Interpretation of Results\n",
    "\n",
    "In this exercise, we used market prices from three Treasury bonds with maturities of 5, 7 and 10 years:\n",
    "\n",
    "- **5Y**: Price = 100.33 → $ Z(0,5) \\approx 0.9398 $\n",
    "- **7Y**: Price = 99.95 → $ Z(0,7) \\approx 0.9323 $\n",
    "- **10Y**: Price = 102.50 → $ Z(0,10) \\approx 0.9474 $\n",
    "\n",
    "##### Methodology:\n",
    "- We applied **linear interpolation** in two segments:\n",
    "  - Between 5Y and 7Y\n",
    "  - Between 7Y and 10Y\n",
    "\n",
    "##### Theoretical context:\n",
    "- According to fixed income theory, discount factors $ Z(0,T) $ should decrease with maturity to reflect positive interest rates and no-arbitrage conditions.\n",
    "- Our curve decreases between 5Y and 7Y, which is consistent with theory, but increases slightly from 7Y to 10Y, which contradicts the expected monotonic behavior.\n",
    "- This upward slope may reflect:\n",
    "  - Liquidity premiums or market frictions affecting the 10Y bond price,\n",
    "  - Modeling simplifications, as we treat each bond independently rather than bootstrapping from earlier maturities,\n",
    "  - Approximation bias when interpolating based on limited data.\n"
   ]
  },
  {
   "cell_type": "markdown",
   "id": "367d9594",
   "metadata": {},
   "source": [
    " "
   ]
  },
  {
   "cell_type": "markdown",
   "id": "02ebdf40",
   "metadata": {},
   "source": [
    "### 4. Duration and Convexity \n",
    "\n",
    "Compute the modified duration and the analytical convexity of the bonds in Exercise 1 with maturities (3M, 6M, 1Y, 2Y, 5Y). Using the duration and convexity, compute the approximate percentage change of those bond prices if the yield increases by 0.1. Compare and comment the results."
   ]
  },
  {
   "cell_type": "markdown",
   "id": "cb4f56a8",
   "metadata": {},
   "source": [
    "#### Theoretical background\n",
    "\n",
    "- Modified Duration: $D_{mod} = \\frac{D_{Mac}}{1 + y/2}$ \n",
    "- Convexity for coupon bonds: $C = \\sum \\frac{CF_t \\cdot t(t+1)}{(1+y/2)^{t+2}} / P$ \n",
    "- Zero-coupon: $D = T, \\; C = T^2$\n",
    "- Price impact: $\\frac{\\Delta P}{P} \\approx -D_{mod} \\cdot \\Delta y + 0.5 \\cdot C \\cdot (\\Delta y)^2$"
   ]
  },
  {
   "cell_type": "code",
   "execution_count": 37,
   "id": "16e62d0f",
   "metadata": {},
   "outputs": [],
   "source": [
    "# Bond data from Task 1 (including both zero-coupon and coupon-bearing bonds)\n",
    "bond_data = {\n",
    "    \"Bond\": [\"3M\", \"6M\", \"1Y\", \"2Y\", \"5Y\"],\n",
    "    \"Coupon (%)\": [0.00, 0.00, 0.00, 3.75, 3.88],\n",
    "    \"Yield (%)\": [4.31, 4.22, 4.01, 3.82, 3.90],\n",
    "    \"Maturity (years)\": [0.25, 0.5, 1, 2, 5],\n",
    "    \"Price\": [95.79, 95.93, 96.15, 99.87, 99.88]  # Market prices (adjusted for T-bills)\n",
    "}\n",
    "\n",
    "# Create DataFrame\n",
    "df = pd.DataFrame(bond_data)\n",
    "df[\"Coupon\"] = df[\"Coupon (%)\"] / 100\n",
    "df[\"Yield\"] = df[\"Yield (%)\"] / 100\n",
    "df[\"Face Value\"] = 100\n",
    "df[\"Frequency\"] = 2  # Semiannual payments\n",
    "\n",
    "# Define duration function (handles zero-coupon case)\n",
    "def modified_duration(coupon, ytm, maturity, freq=2, face=100):\n",
    "    if coupon == 0:\n",
    "        return maturity / (1 + ytm / freq)\n",
    "    \n",
    "    n = int(maturity * freq)\n",
    "    c = coupon * face / freq\n",
    "    y = ytm / freq\n",
    "    times = np.arange(1, n + 1)\n",
    "    cashflows = np.full(n, c)\n",
    "    cashflows[-1] += face\n",
    "    discounted_cf = cashflows / (1 + y) ** times\n",
    "    price = discounted_cf.sum()\n",
    "    macaulay_duration = np.sum(times * discounted_cf) / price\n",
    "    return macaulay_duration / freq / (1 + y)\n",
    "\n",
    "# Define analytical convexity function\n",
    "def analytical_convexity(coupon, ytm, maturity, freq=2, face=100):\n",
    "    if coupon == 0:\n",
    "        return maturity ** 2\n",
    "    \n",
    "    n = int(maturity * freq)\n",
    "    c = coupon * face / freq\n",
    "    y = ytm / freq\n",
    "    times = np.arange(1, n + 1)\n",
    "    cashflows = np.full(n, c)\n",
    "    cashflows[-1] += face\n",
    "    convexity_terms = [cf * t * (t + 1) / (1 + y)**(t + 2) for t, cf in zip(times, cashflows)]\n",
    "    price = sum([cf / (1 + y)**t for t, cf in zip(times, cashflows)])\n",
    "    return sum(convexity_terms) / price / (freq ** 2)\n",
    "\n",
    "# Yield change for approximation (10 basis points = 0.001)\n",
    "delta_y = 0.001\n",
    "\n",
    "# Compute metrics for each bond\n",
    "mod_durations = []\n",
    "convexities = []\n",
    "pct_changes = []\n",
    "\n",
    "for _, row in df.iterrows():\n",
    "    Dmod = modified_duration(row[\"Coupon\"], row[\"Yield\"], row[\"Maturity (years)\"])\n",
    "    C = analytical_convexity(row[\"Coupon\"], row[\"Yield\"], row[\"Maturity (years)\"])\n",
    "    price_change_pct = -Dmod * delta_y + 0.5 * C * delta_y**2\n",
    "    mod_durations.append(Dmod)\n",
    "    convexities.append(C)\n",
    "    pct_changes.append(price_change_pct * 100)  # Convert to %\n",
    "\n",
    "# Store results in the DataFrame\n",
    "df[\"Modified Duration\"] = mod_durations\n",
    "df[\"Analytical Convexity\"] = convexities\n",
    "df[\"Est. Price Change (%)\"] = pct_changes"
   ]
  },
  {
   "cell_type": "code",
   "execution_count": 38,
   "id": "dbd720f4",
   "metadata": {},
   "outputs": [
    {
     "name": "stdout",
     "output_type": "stream",
     "text": [
      "  Bond  Coupon (%)  Yield (%)  Maturity (years)  Price  Modified Duration  \\\n",
      "0   3M        0.00       4.31              0.25  95.79           0.244726   \n",
      "1   6M        0.00       4.22              0.50  95.93           0.489668   \n",
      "2   1Y        0.00       4.01              1.00  96.15           0.980344   \n",
      "3   2Y        3.75       3.82              2.00  99.87           1.908957   \n",
      "4   5Y        3.88       3.90              5.00  99.88           4.504763   \n",
      "\n",
      "   Analytical Convexity  Est. Price Change (%)  \n",
      "0              0.062500              -0.024469  \n",
      "1              0.250000              -0.048954  \n",
      "2              1.000000              -0.097984  \n",
      "3              4.639426              -0.190664  \n",
      "4             23.601982              -0.449296  \n"
     ]
    }
   ],
   "source": [
    "# Display results\n",
    "print(df[[\n",
    "    \"Bond\", \"Coupon (%)\", \"Yield (%)\", \"Maturity (years)\", \"Price\",\n",
    "    \"Modified Duration\", \"Analytical Convexity\", \"Est. Price Change (%)\"\n",
    "]])\n"
   ]
  },
  {
   "cell_type": "markdown",
   "id": "313cae61",
   "metadata": {},
   "source": [
    "#### Interpretation of Results\n",
    "\n",
    "The computed results align with theoretical expectations from the lecture slides:\n",
    "\n",
    "- **Modified Duration (Dmod):** Increases with bond maturity, reflecting greater sensitivity to interest rate changes.\n",
    "  - For instance, the 3M bond has a duration of 0.24, while the 5Y bond reaches 4.50.\n",
    "  - This confirms that longer-term bonds are more exposed to interest rate risk.\n",
    "\n",
    "- **Analytical Convexity:** Grows non-linearly with maturity.\n",
    "  - The 1Y bond has a convexity of approximately 1, while the 5Y bond shows a value above 23.\n",
    "  - This behavior is consistent with the theoretical expression: convexity increases roughly with the square of the maturity.\n",
    "\n",
    "- **Estimated Price Change** for a 10 basis point increase in yield ($ \\Delta y = +0.001 $):\n",
    "  - All bonds exhibit a negative price impact, as expected since both duration and convexity are positive.\n",
    "  - The magnitude of price change increases with maturity:\n",
    "    - 3M: –0.024%\n",
    "    - 5Y: –0.449%\n",
    "  - This illustrates how longer bonds are more price sensitive to yield changes.\n",
    "\n",
    "\n",
    "\n",
    "This analysis confirms that:\n",
    "- **Modified duration** captures the first-order price sensitivity to yield changes.\n",
    "- **Convexity** accounts for second-order effects, refining the price change estimation.\n",
    "- Together, they provide a more accurate picture of interest rate risk for fixed income instruments."
   ]
  }
 ],
 "metadata": {
  "kernelspec": {
   "display_name": "Python 3",
   "language": "python",
   "name": "python3"
  },
  "language_info": {
   "codemirror_mode": {
    "name": "ipython",
    "version": 3
   },
   "file_extension": ".py",
   "mimetype": "text/x-python",
   "name": "python",
   "nbconvert_exporter": "python",
   "pygments_lexer": "ipython3",
   "version": "3.12.1"
  }
 },
 "nbformat": 4,
 "nbformat_minor": 5
}
